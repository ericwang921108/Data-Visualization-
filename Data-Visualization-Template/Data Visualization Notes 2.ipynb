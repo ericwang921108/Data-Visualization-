{
 "cells": [
  {
   "cell_type": "code",
   "execution_count": 50,
   "metadata": {},
   "outputs": [],
   "source": [
    "import matplotlib.pyplot as plt\n",
    "import matplotlib.gridspec as gridspec"
   ]
  },
  {
   "cell_type": "code",
   "execution_count": 5,
   "metadata": {},
   "outputs": [],
   "source": [
    "artists = ['Adele','Diplo','Giorgio Moroder','Madonnaa']\n",
    "grammys = [12, 3, 5, 7]"
   ]
  },
  {
   "cell_type": "code",
   "execution_count": 7,
   "metadata": {},
   "outputs": [],
   "source": [
    "data = dict(zip(artists, grammys))"
   ]
  },
  {
   "cell_type": "code",
   "execution_count": 14,
   "metadata": {},
   "outputs": [
    {
     "data": {
      "text/plain": [
       "[12, 3, 5, 7]"
      ]
     },
     "execution_count": 14,
     "metadata": {},
     "output_type": "execute_result"
    }
   ],
   "source": [
    "list(data.values())"
   ]
  },
  {
   "cell_type": "code",
   "execution_count": 26,
   "metadata": {},
   "outputs": [],
   "source": [
    "# data series\n",
    "positions =[0, 1, 2, 3]\n",
    "values = list(data.values())\n",
    "names = list(data.keys())"
   ]
  },
  {
   "cell_type": "code",
   "execution_count": 27,
   "metadata": {},
   "outputs": [
    {
     "data": {
      "text/plain": [
       "dict_keys(['Adele', 'Diplo', 'Giorgio Moroder', 'Madonnaa'])"
      ]
     },
     "execution_count": 27,
     "metadata": {},
     "output_type": "execute_result"
    }
   ],
   "source": [
    "data.keys()"
   ]
  },
  {
   "cell_type": "code",
   "execution_count": 51,
   "metadata": {},
   "outputs": [
    {
     "name": "stderr",
     "output_type": "stream",
     "text": [
      "<ipython-input-51-a104beed8b46>:32: UserWarning: Matplotlib is currently using module://ipykernel.pylab.backend_inline, which is a non-GUI backend, so cannot show the figure.\n",
      "  fig.show()\n"
     ]
    },
    {
     "data": {
      "image/png": "[encoded data removed]",
      "text/plain": [
       "<Figure size 432x288 with 1 Axes>"
      ]
     },
     "metadata": {
      "needs_background": "light"
     },
     "output_type": "display_data"
    }
   ],
   "source": [
    "# create an empty figure \n",
    "fig = plt.figure(figsize=(6, 4))\n",
    "\n",
    "\n",
    "# add a plot\n",
    "ax = fig.add_subplot(1, 1, 1)\n",
    "    \n",
    "# plot data\n",
    "ax.bar(positions,values,width=0.5, color=\"grey\")\n",
    "\n",
    "# axes\n",
    "# --+ ticks\n",
    "ax.set_xticks(positions) \n",
    "# --+ labels of the ticks \n",
    "ax.set_xticklabels(names)\n",
    "\n",
    "# --+\n",
    "#ax.set_yticks(['2','', '4','', '8', '', '12'])\n",
    "\n",
    "# --+ removing spines\n",
    "ax.spines['right'].set_visible(False)\n",
    "ax.spines['left'].set_visible(False)\n",
    "ax.spines['bottom'].set_visible(False)\n",
    "ax.spines['top'].set_visible(False)\n",
    "\n",
    "# gridline \n",
    "ax.grid(True, axis='y', color ='white', ls=':')\n",
    "\n",
    "# showing the plot\n",
    "fig.show()"
   ]
  },
  {
   "cell_type": "code",
   "execution_count": 39,
   "metadata": {},
   "outputs": [],
   "source": [
    "import numpy as np "
   ]
  },
  {
   "cell_type": "code",
   "execution_count": 43,
   "metadata": {},
   "outputs": [],
   "source": [
    "x= np.random.normal(loc=0, scale=1, size=100)\n",
    "y= np.random.poisson(lam=6, size=100)"
   ]
  },
  {
   "cell_type": "code",
   "execution_count": 57,
   "metadata": {},
   "outputs": [
    {
     "data": {
      "image/png": "[encoded data removed]",
      "text/plain": [
       "<Figure size 432x288 with 4 Axes>"
      ]
     },
     "metadata": {
      "needs_background": "light"
     },
     "output_type": "display_data"
    }
   ],
   "source": [
    "# figure\n",
    "fig = plt.figure(figsize=(6,4))\n",
    "    \n",
    "# partitioning the figure \n",
    "gs = gridspec.GridSpec(2, 2,\n",
    "                       figure=fig, \n",
    "                       width_ratios=[0.5, 10],\n",
    "                       height_ratios=[10, 0.5])\n",
    "\n",
    "# plot\n",
    "ax0 = fig.add_subplot(gs[0, 0]) # univariate distro of y\n",
    "ax1 = fig.add_subplot(gs[0, 1]) # x-y scatter\n",
    "ax2 = fig.add_subplot(gs[1, 0]) # phatom plot\n",
    "ax3 = fig.add_subplot(gs[1, 1]) # univariate distro of y\n",
    "\n",
    "# data\n",
    "ax1.scatter(x, y, color='k', edgecolor='white')\n",
    "\n",
    "# --+ removing spines\n",
    "ax1.spines['right'].set_visible(False)\n",
    "ax1.spines['left'].set_visible(False)\n",
    "ax1.spines['bottom'].set_visible(False)\n",
    "ax1.spines['top'].set_visible(False)\n",
    "\n",
    "# --+ removing spines\n",
    "ax0.spines['right'].set_visible(False)\n",
    "ax0.spines['left'].set_visible(False)\n",
    "ax0.spines['bottom'].set_visible(False)\n",
    "ax0.spines['top'].set_visible(False)\n",
    "\n",
    "# --+ removing spines\n",
    "ax3.spines['right'].set_visible(False)\n",
    "ax3.spines['left'].set_visible(False)\n",
    "ax3.spines['bottom'].set_visible(False)\n",
    "ax3.spines['top'].set_visible(False)\n",
    "\n",
    "# --+ removing spines\n",
    "ax2.spines['right'].set_visible(False)\n",
    "ax2.spines['left'].set_visible(False)\n",
    "ax2.spines['bottom'].set_visible(False)\n",
    "ax2.spines['top'].set_visible(False)\n",
    "\n",
    "# showing the plot\n",
    "plt.show()"
   ]
  },
  {
   "cell_type": "code",
   "execution_count": null,
   "metadata": {},
   "outputs": [],
   "source": []
  }
 ],
 "metadata": {
  "kernelspec": {
   "display_name": "Python 3",
   "language": "python",
   "name": "python3"
  },
  "language_info": {
   "codemirror_mode": {
    "name": "ipython",
    "version": 3
   },
   "file_extension": ".py",
   "mimetype": "text/x-python",
   "name": "python",
   "nbconvert_exporter": "python",
   "pygments_lexer": "ipython3",
   "version": "3.8.5"
  }
 },
 "nbformat": 4,
 "nbformat_minor": 4
}
