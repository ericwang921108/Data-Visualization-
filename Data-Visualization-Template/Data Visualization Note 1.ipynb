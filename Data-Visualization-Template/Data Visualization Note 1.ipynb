{
 "cells": [
  {
   "cell_type": "code",
   "execution_count": 6,
   "metadata": {},
   "outputs": [],
   "source": [
    "# loading libraries\n",
    "import matplotlib.pyplot as plt\n",
    "import numpy as np\n"
   ]
  },
  {
   "cell_type": "code",
   "execution_count": 7,
   "metadata": {},
   "outputs": [],
   "source": [
    "# generating fake data\n",
    "x = np.random.randn(100)"
   ]
  },
  {
   "cell_type": "code",
   "execution_count": 8,
   "metadata": {},
   "outputs": [
    {
     "data": {
      "text/plain": [
       "array([-0.63851599,  0.88801956,  1.31769567, -0.57950694, -0.00852708,\n",
       "        1.01720991,  0.59069412, -0.64370233,  1.38284574,  0.56461147,\n",
       "        0.98882652,  0.2462814 ,  1.63626161,  1.20113317, -0.00431251,\n",
       "        0.43732789, -0.12971098, -0.5644958 ,  1.4527791 , -1.74185405,\n",
       "       -0.31889652,  0.67190118,  0.01266541,  3.17630292, -0.32173646,\n",
       "       -0.14956892, -1.12366235, -1.44220687, -0.39837386,  0.47244099,\n",
       "       -1.03752143,  0.60177799, -0.50173942,  0.59291967,  0.05774552,\n",
       "        0.40095383,  0.53935352,  0.23354486,  0.09225987,  0.01049211,\n",
       "        0.87682368, -1.1282397 , -0.99717661, -0.90252691,  0.69412416,\n",
       "       -0.12244359, -0.79475562, -0.94380168, -1.65062611, -1.34972179,\n",
       "        0.09791204,  0.31375009,  1.82093889, -0.56608295,  0.98384797,\n",
       "       -0.86418028,  0.76402298,  2.17906353,  1.43104435,  0.20759698,\n",
       "        0.75671548,  0.88130988, -0.99718236, -1.56704892, -0.67314102,\n",
       "       -1.03198329,  1.08548955,  1.19541066, -0.59254136,  0.64566118,\n",
       "        0.03181375, -1.69489426,  1.52860204,  0.38052634,  2.25928988,\n",
       "       -0.14309765, -0.43208749,  0.24702413, -0.10416009, -0.06015741,\n",
       "       -0.46553547,  0.82650198,  0.17260913, -0.1513253 , -0.0272033 ,\n",
       "        0.28072747, -1.27933856, -0.49172248,  0.42605599, -0.06662077,\n",
       "        0.316136  , -0.44592091, -1.60607555, -0.34675759,  0.30446123,\n",
       "       -1.56070324,  0.39333342, -0.3242917 , -2.47535391, -2.02331024])"
      ]
     },
     "execution_count": 8,
     "metadata": {},
     "output_type": "execute_result"
    }
   ],
   "source": [
    "x"
   ]
  },
  {
   "cell_type": "code",
   "execution_count": 14,
   "metadata": {},
   "outputs": [
    {
     "data": {
      "image/png": "[encoded data removed]",
      "text/plain": [
       "<Figure size 288x288 with 1 Axes>"
      ]
     },
     "metadata": {
      "needs_background": "light"
     },
     "output_type": "display_data"
    }
   ],
   "source": [
    "# SUPID PLOT\n",
    "\n",
    "# initiate a new figure\n",
    "\n",
    "fig = plt.figure(figsize =(4,4))\n",
    "\n",
    "#populating the figure with a plot\n",
    "\n",
    "ax =fig.add_subplot(1, 1, 1)\n",
    "\n",
    "\n",
    "#plot the data \n",
    "ax.hist(x)\n",
    "\n",
    "#show the plot \n",
    "plt.show()\n"
   ]
  },
  {
   "cell_type": "code",
   "execution_count": null,
   "metadata": {},
   "outputs": [],
   "source": []
  }
 ],
 "metadata": {
  "kernelspec": {
   "display_name": "Python 3",
   "language": "python",
   "name": "python3"
  },
  "language_info": {
   "codemirror_mode": {
    "name": "ipython",
    "version": 3
   },
   "file_extension": ".py",
   "mimetype": "text/x-python",
   "name": "python",
   "nbconvert_exporter": "python",
   "pygments_lexer": "ipython3",
   "version": "3.8.5"
  }
 },
 "nbformat": 4,
 "nbformat_minor": 4
}
