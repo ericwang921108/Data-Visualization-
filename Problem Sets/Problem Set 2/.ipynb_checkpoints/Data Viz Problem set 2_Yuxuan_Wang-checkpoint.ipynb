{
 "cells": [
  {
   "cell_type": "code",
   "execution_count": 24,
   "metadata": {},
   "outputs": [],
   "source": [
    "# Load some relevant libriaries \n",
    "import numpy as np\n",
    "import pandas as pd\n",
    "import matplotlib.pyplot as plt\n",
    "import matplotlib.gridspec as gridspec\n",
    "import statsmodels.api as sm\n",
    "import statsmodels.formula.api as smf"
   ]
  },
  {
   "cell_type": "code",
   "execution_count": 25,
   "metadata": {},
   "outputs": [
    {
     "data": {
      "text/html": [
       "<div>\n",
       "<style scoped>\n",
       "    .dataframe tbody tr th:only-of-type {\n",
       "        vertical-align: middle;\n",
       "    }\n",
       "\n",
       "    .dataframe tbody tr th {\n",
       "        vertical-align: top;\n",
       "    }\n",
       "\n",
       "    .dataframe thead th {\n",
       "        text-align: right;\n",
       "    }\n",
       "</style>\n",
       "<table border=\"1\" class=\"dataframe\">\n",
       "  <thead>\n",
       "    <tr style=\"text-align: right;\">\n",
       "      <th></th>\n",
       "      <th>PERSONID</th>\n",
       "      <th>EDUC</th>\n",
       "      <th>LOGWAGE</th>\n",
       "      <th>POTEXPER</th>\n",
       "      <th>TIMETRND</th>\n",
       "      <th>ABILITY</th>\n",
       "      <th>MOTHERED</th>\n",
       "      <th>FATHERED</th>\n",
       "      <th>BRKNHOME</th>\n",
       "      <th>SIBLINGS</th>\n",
       "    </tr>\n",
       "  </thead>\n",
       "  <tbody>\n",
       "    <tr>\n",
       "      <th>count</th>\n",
       "      <td>17919.000000</td>\n",
       "      <td>17919.000000</td>\n",
       "      <td>17919.000000</td>\n",
       "      <td>17919.000000</td>\n",
       "      <td>17919.000000</td>\n",
       "      <td>17919.000000</td>\n",
       "      <td>17919.000000</td>\n",
       "      <td>17919.000000</td>\n",
       "      <td>17919.000000</td>\n",
       "      <td>17919.000000</td>\n",
       "    </tr>\n",
       "    <tr>\n",
       "      <th>mean</th>\n",
       "      <td>1081.851889</td>\n",
       "      <td>12.676042</td>\n",
       "      <td>2.296821</td>\n",
       "      <td>8.362688</td>\n",
       "      <td>8.196719</td>\n",
       "      <td>0.052374</td>\n",
       "      <td>11.471901</td>\n",
       "      <td>11.709247</td>\n",
       "      <td>0.153859</td>\n",
       "      <td>3.156203</td>\n",
       "    </tr>\n",
       "    <tr>\n",
       "      <th>std</th>\n",
       "      <td>629.845900</td>\n",
       "      <td>1.922433</td>\n",
       "      <td>0.528236</td>\n",
       "      <td>4.127502</td>\n",
       "      <td>3.956042</td>\n",
       "      <td>0.926129</td>\n",
       "      <td>2.988851</td>\n",
       "      <td>3.766923</td>\n",
       "      <td>0.360824</td>\n",
       "      <td>2.120989</td>\n",
       "    </tr>\n",
       "    <tr>\n",
       "      <th>min</th>\n",
       "      <td>1.000000</td>\n",
       "      <td>9.000000</td>\n",
       "      <td>0.070000</td>\n",
       "      <td>0.000000</td>\n",
       "      <td>0.000000</td>\n",
       "      <td>-4.040000</td>\n",
       "      <td>0.000000</td>\n",
       "      <td>0.000000</td>\n",
       "      <td>0.000000</td>\n",
       "      <td>0.000000</td>\n",
       "    </tr>\n",
       "    <tr>\n",
       "      <th>25%</th>\n",
       "      <td>534.000000</td>\n",
       "      <td>12.000000</td>\n",
       "      <td>1.960000</td>\n",
       "      <td>5.000000</td>\n",
       "      <td>5.000000</td>\n",
       "      <td>-0.510000</td>\n",
       "      <td>11.000000</td>\n",
       "      <td>10.000000</td>\n",
       "      <td>0.000000</td>\n",
       "      <td>2.000000</td>\n",
       "    </tr>\n",
       "    <tr>\n",
       "      <th>50%</th>\n",
       "      <td>1079.000000</td>\n",
       "      <td>12.000000</td>\n",
       "      <td>2.310000</td>\n",
       "      <td>8.000000</td>\n",
       "      <td>9.000000</td>\n",
       "      <td>0.210000</td>\n",
       "      <td>12.000000</td>\n",
       "      <td>12.000000</td>\n",
       "      <td>0.000000</td>\n",
       "      <td>3.000000</td>\n",
       "    </tr>\n",
       "    <tr>\n",
       "      <th>75%</th>\n",
       "      <td>1633.000000</td>\n",
       "      <td>14.000000</td>\n",
       "      <td>2.660000</td>\n",
       "      <td>11.000000</td>\n",
       "      <td>12.000000</td>\n",
       "      <td>0.770000</td>\n",
       "      <td>12.000000</td>\n",
       "      <td>14.000000</td>\n",
       "      <td>0.000000</td>\n",
       "      <td>4.000000</td>\n",
       "    </tr>\n",
       "    <tr>\n",
       "      <th>max</th>\n",
       "      <td>2178.000000</td>\n",
       "      <td>20.000000</td>\n",
       "      <td>4.570000</td>\n",
       "      <td>22.000000</td>\n",
       "      <td>14.000000</td>\n",
       "      <td>2.010000</td>\n",
       "      <td>20.000000</td>\n",
       "      <td>20.000000</td>\n",
       "      <td>1.000000</td>\n",
       "      <td>18.000000</td>\n",
       "    </tr>\n",
       "  </tbody>\n",
       "</table>\n",
       "</div>"
      ],
      "text/plain": [
       "           PERSONID          EDUC       LOGWAGE      POTEXPER      TIMETRND  \\\n",
       "count  17919.000000  17919.000000  17919.000000  17919.000000  17919.000000   \n",
       "mean    1081.851889     12.676042      2.296821      8.362688      8.196719   \n",
       "std      629.845900      1.922433      0.528236      4.127502      3.956042   \n",
       "min        1.000000      9.000000      0.070000      0.000000      0.000000   \n",
       "25%      534.000000     12.000000      1.960000      5.000000      5.000000   \n",
       "50%     1079.000000     12.000000      2.310000      8.000000      9.000000   \n",
       "75%     1633.000000     14.000000      2.660000     11.000000     12.000000   \n",
       "max     2178.000000     20.000000      4.570000     22.000000     14.000000   \n",
       "\n",
       "            ABILITY      MOTHERED      FATHERED      BRKNHOME     SIBLINGS   \n",
       "count  17919.000000  17919.000000  17919.000000  17919.000000  17919.000000  \n",
       "mean       0.052374     11.471901     11.709247      0.153859      3.156203  \n",
       "std        0.926129      2.988851      3.766923      0.360824      2.120989  \n",
       "min       -4.040000      0.000000      0.000000      0.000000      0.000000  \n",
       "25%       -0.510000     11.000000     10.000000      0.000000      2.000000  \n",
       "50%        0.210000     12.000000     12.000000      0.000000      3.000000  \n",
       "75%        0.770000     12.000000     14.000000      0.000000      4.000000  \n",
       "max        2.010000     20.000000     20.000000      1.000000     18.000000  "
      ]
     },
     "execution_count": 25,
     "metadata": {},
     "output_type": "execute_result"
    }
   ],
   "source": [
    "# load data and check relevant statistics of the variables\n",
    "df = pd.read_csv(\"data.csv\")\n",
    "df.describe()"
   ]
  },
  {
   "cell_type": "code",
   "execution_count": 27,
   "metadata": {},
   "outputs": [
    {
     "data": {
      "text/plain": [
       "<matplotlib.axes._subplots.AxesSubplot at 0x241dafc3640>"
      ]
     },
     "execution_count": 27,
     "metadata": {},
     "output_type": "execute_result"
    },
    {
     "data": {
      "image/png": "[encoded data removed]",
      "text/plain": [
       "<Figure size 432x288 with 1 Axes>"
      ]
     },
     "metadata": {
      "needs_background": "light"
     },
     "output_type": "display_data"
    }
   ],
   "source": [
    "# use panda to draw historam graph for variable EDUC\n",
    "data_EDUC = df.loc[: , [\"EDUC\"]]\n",
    "data_EDUC.plot.hist(by=None, bins=10,width=0.7, color=\"grey\")"
   ]
  },
  {
   "cell_type": "code",
   "execution_count": 111,
   "metadata": {},
   "outputs": [
    {
     "data": {
      "text/plain": [
       "<matplotlib.axes._subplots.AxesSubplot at 0x25c10bbc670>"
      ]
     },
     "execution_count": 111,
     "metadata": {},
     "output_type": "execute_result"
    },
    {
     "data": {
      "image/png": "[encoded data removed]",
      "text/plain": [
       "<Figure size 432x288 with 1 Axes>"
      ]
     },
     "metadata": {
      "needs_background": "light"
     },
     "output_type": "display_data"
    }
   ],
   "source": [
    "# use panda to draw historam graph for variable LOGWAGE\n",
    "data_LW = df.loc[: , [\"LOGWAGE\"]]\n",
    "data_LW.plot.hist(by=None, bins=20,width=0.2, color=\"grey\")"
   ]
  },
  {
   "cell_type": "code",
   "execution_count": 113,
   "metadata": {},
   "outputs": [
    {
     "data": {
      "text/plain": [
       "<matplotlib.axes._subplots.AxesSubplot at 0x25c10cd5040>"
      ]
     },
     "execution_count": 113,
     "metadata": {},
     "output_type": "execute_result"
    },
    {
     "data": {
      "image/png": "[encoded data removed]",
      "text/plain": [
       "<Figure size 432x288 with 1 Axes>"
      ]
     },
     "metadata": {
      "needs_background": "light"
     },
     "output_type": "display_data"
    }
   ],
   "source": [
    "# use panda to draw historam graph for variable ABILITY\n",
    "data_AB = df.loc[: , [\"ABILITY\"]]\n",
    "data_AB.plot.hist(by=None, bins=20,width=0.2, color=\"grey\")"
   ]
  },
  {
   "cell_type": "code",
   "execution_count": 121,
   "metadata": {},
   "outputs": [
    {
     "data": {
      "text/plain": [
       "<matplotlib.axes._subplots.AxesSubplot at 0x25c1205e400>"
      ]
     },
     "execution_count": 121,
     "metadata": {},
     "output_type": "execute_result"
    },
    {
     "data": {
      "image/png": "[encoded data removed]",
      "text/plain": [
       "<Figure size 432x288 with 1 Axes>"
      ]
     },
     "metadata": {
      "needs_background": "light"
     },
     "output_type": "display_data"
    }
   ],
   "source": [
    "# use panda to draw historam graph for variable MOTHERED\n",
    "data_MO = df.loc[: , [\"MOTHERED\"]]\n",
    "data_MO.plot.hist(by=None, bins=10,width=0.8, color=\"grey\")"
   ]
  },
  {
   "cell_type": "code",
   "execution_count": 34,
   "metadata": {},
   "outputs": [
    {
     "data": {
      "text/plain": [
       "<matplotlib.axes._subplots.AxesSubplot at 0x241da5d49a0>"
      ]
     },
     "execution_count": 34,
     "metadata": {},
     "output_type": "execute_result"
    },
    {
     "data": {
      "image/png": "[encoded data removed]",
      "text/plain": [
       "<Figure size 432x288 with 1 Axes>"
      ]
     },
     "metadata": {
      "needs_background": "light"
     },
     "output_type": "display_data"
    }
   ],
   "source": [
    "# use panda to draw historam graph for variable FATHERED\n",
    "data_FA = df.loc[: , [\"FATHERED\"]]\n",
    "data_FA.plot.hist(by=None, bins=10,width=0.8, color=\"grey\")"
   ]
  },
  {
   "cell_type": "code",
   "execution_count": 32,
   "metadata": {},
   "outputs": [
    {
     "data": {
      "text/plain": [
       "<matplotlib.axes._subplots.AxesSubplot at 0x241dafbd490>"
      ]
     },
     "execution_count": 32,
     "metadata": {},
     "output_type": "execute_result"
    },
    {
     "data": {
      "image/png": "[encoded data removed]",
      "text/plain": [
       "<Figure size 432x288 with 1 Axes>"
      ]
     },
     "metadata": {
      "needs_background": "light"
     },
     "output_type": "display_data"
    }
   ],
   "source": [
    "# use panda to draw historam graph for variable SIBLINGS\n",
    "data_SB = df.loc[: , [\"SIBLINGS \"]]\n",
    "data_SB.plot.hist(by=None, bins=20,width=0.8, color=\"grey\")"
   ]
  },
  {
   "cell_type": "code",
   "execution_count": null,
   "metadata": {},
   "outputs": [],
   "source": [
    "## scatter plot of \"WAGE\" in relation to \"ABILITY\""
   ]
  },
  {
   "cell_type": "code",
   "execution_count": 51,
   "metadata": {},
   "outputs": [
    {
     "data": {
      "text/html": [
       "<div>\n",
       "<style scoped>\n",
       "    .dataframe tbody tr th:only-of-type {\n",
       "        vertical-align: middle;\n",
       "    }\n",
       "\n",
       "    .dataframe tbody tr th {\n",
       "        vertical-align: top;\n",
       "    }\n",
       "\n",
       "    .dataframe thead th {\n",
       "        text-align: right;\n",
       "    }\n",
       "</style>\n",
       "<table border=\"1\" class=\"dataframe\">\n",
       "  <thead>\n",
       "    <tr style=\"text-align: right;\">\n",
       "      <th></th>\n",
       "      <th>ABILITY</th>\n",
       "      <th>WAGE</th>\n",
       "    </tr>\n",
       "  </thead>\n",
       "  <tbody>\n",
       "    <tr>\n",
       "      <th>0</th>\n",
       "      <td>-4.04</td>\n",
       "      <td>6.208175</td>\n",
       "    </tr>\n",
       "    <tr>\n",
       "      <th>1</th>\n",
       "      <td>-3.96</td>\n",
       "      <td>10.852317</td>\n",
       "    </tr>\n",
       "    <tr>\n",
       "      <th>2</th>\n",
       "      <td>-3.14</td>\n",
       "      <td>7.906961</td>\n",
       "    </tr>\n",
       "    <tr>\n",
       "      <th>3</th>\n",
       "      <td>-3.04</td>\n",
       "      <td>3.142014</td>\n",
       "    </tr>\n",
       "    <tr>\n",
       "      <th>4</th>\n",
       "      <td>-2.90</td>\n",
       "      <td>6.715749</td>\n",
       "    </tr>\n",
       "    <tr>\n",
       "      <th>...</th>\n",
       "      <td>...</td>\n",
       "      <td>...</td>\n",
       "    </tr>\n",
       "    <tr>\n",
       "      <th>415</th>\n",
       "      <td>1.82</td>\n",
       "      <td>14.947857</td>\n",
       "    </tr>\n",
       "    <tr>\n",
       "      <th>416</th>\n",
       "      <td>1.85</td>\n",
       "      <td>12.989661</td>\n",
       "    </tr>\n",
       "    <tr>\n",
       "      <th>417</th>\n",
       "      <td>1.89</td>\n",
       "      <td>7.097023</td>\n",
       "    </tr>\n",
       "    <tr>\n",
       "      <th>418</th>\n",
       "      <td>1.94</td>\n",
       "      <td>6.753089</td>\n",
       "    </tr>\n",
       "    <tr>\n",
       "      <th>419</th>\n",
       "      <td>2.01</td>\n",
       "      <td>16.609728</td>\n",
       "    </tr>\n",
       "  </tbody>\n",
       "</table>\n",
       "<p>420 rows × 2 columns</p>\n",
       "</div>"
      ],
      "text/plain": [
       "     ABILITY       WAGE\n",
       "0      -4.04   6.208175\n",
       "1      -3.96  10.852317\n",
       "2      -3.14   7.906961\n",
       "3      -3.04   3.142014\n",
       "4      -2.90   6.715749\n",
       "..       ...        ...\n",
       "415     1.82  14.947857\n",
       "416     1.85  12.989661\n",
       "417     1.89   7.097023\n",
       "418     1.94   6.753089\n",
       "419     2.01  16.609728\n",
       "\n",
       "[420 rows x 2 columns]"
      ]
     },
     "execution_count": 51,
     "metadata": {},
     "output_type": "execute_result"
    }
   ],
   "source": [
    "## Create a new column of Average Wage via numpy\n",
    "data1 = df.loc[: , [\"ABILITY\", \"LOGWAGE\"]]\n",
    "data1\n",
    "data1.loc[:, \"WAGE\"] = df.loc[:, \"LOGWAGE\"].transform(np.exp)\n",
    "gr = data1.groupby(\"ABILITY\" , as_index = False)\n",
    "data2 = gr[\"WAGE\"].aggregate(np.mean)\n",
    "data2"
   ]
  },
  {
   "cell_type": "code",
   "execution_count": 53,
   "metadata": {},
   "outputs": [
    {
     "data": {
      "image/png": "[encoded data removed]",
      "text/plain": [
       "<Figure size 1008x1008 with 4 Axes>"
      ]
     },
     "metadata": {
      "needs_background": "light"
     },
     "output_type": "display_data"
    }
   ],
   "source": [
    "#add data and plot chart\n",
    "x = data2.loc[: , \"ABILITY\"]\n",
    "y = data2.loc[: , \"WAGE\"]\n",
    "\n",
    "# figure\n",
    "fig = plt.figure(figsize=(14,14))\n",
    "    \n",
    "# partitioning the figure \n",
    "gs = gridspec.GridSpec(2, 2,\n",
    "                       figure=fig, \n",
    "                       width_ratios=[0.5, 10],\n",
    "                       height_ratios=[10, 0.5])\n",
    "\n",
    "# plot\n",
    "ax0 = fig.add_subplot(gs[0, 0]) # univariate distro of y\n",
    "ax1 = fig.add_subplot(gs[0, 1]) # x-y scatter\n",
    "ax2 = fig.add_subplot(gs[1, 0]) # phatom plot\n",
    "ax3 = fig.add_subplot(gs[1, 1]) # univariate distro of y\n",
    "\n",
    "# data\n",
    "ax1.scatter(x, y, color='k', edgecolor='white')\n",
    "\n",
    "# regression line \n",
    "m, b = np.polyfit(x, y, 1)\n",
    "\n",
    "# plot regression line\n",
    "ax1.plot(x, m * x + b)\n",
    "\n",
    "# label\n",
    "ax1.set_ylabel('Average Wage per hour')\n",
    "ax1.set_xlabel(' Ability')\n",
    "\n",
    "# title for the chart\n",
    "plt.title(\"Scatter plot of Average Wage per hour in relation to Ability\")\n",
    "\n",
    "# --+ removing spines\n",
    "ax1.spines['right'].set_visible(False)\n",
    "ax1.spines['left'].set_visible(False)\n",
    "ax1.spines['bottom'].set_visible(False)\n",
    "ax1.spines['top'].set_visible(False)\n",
    "\n",
    "# --+ removing spines\n",
    "ax0.spines['right'].set_visible(False)\n",
    "ax0.spines['left'].set_visible(False)\n",
    "ax0.spines['bottom'].set_visible(False)\n",
    "ax0.spines['top'].set_visible(False)\n",
    "\n",
    "# --+ removing spines\n",
    "ax3.spines['right'].set_visible(False)\n",
    "ax3.spines['left'].set_visible(False)\n",
    "ax3.spines['bottom'].set_visible(False)\n",
    "ax3.spines['top'].set_visible(False)\n",
    "\n",
    "# --+ removing spines\n",
    "ax2.spines['right'].set_visible(False)\n",
    "ax2.spines['left'].set_visible(False)\n",
    "ax2.spines['bottom'].set_visible(False)\n",
    "ax2.spines['top'].set_visible(False)\n",
    "\n",
    "# showing the plot\n",
    "plt.show()"
   ]
  }
 ],
 "metadata": {
  "kernelspec": {
   "display_name": "Python 3",
   "language": "python",
   "name": "python3"
  },
  "language_info": {
   "codemirror_mode": {
    "name": "ipython",
    "version": 3
   },
   "file_extension": ".py",
   "mimetype": "text/x-python",
   "name": "python",
   "nbconvert_exporter": "python",
   "pygments_lexer": "ipython3",
   "version": "3.8.3"
  }
 },
 "nbformat": 4,
 "nbformat_minor": 4
}
